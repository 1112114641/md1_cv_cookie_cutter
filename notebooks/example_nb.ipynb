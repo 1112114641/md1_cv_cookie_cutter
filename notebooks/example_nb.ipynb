{
 "cells": [
  {
   "cell_type": "markdown",
   "id": "846d81ec",
   "metadata": {},
   "source": [
    "# Intro\n",
    "123\n",
    "\n",
    "### TOC\n",
    "[123](123)"
   ]
  },
  {
   "cell_type": "code",
   "execution_count": null,
   "id": "07926b0e",
   "metadata": {},
   "outputs": [],
   "source": [
    "%load_ext autoreload\n",
    "%autoreload 2"
   ]
  },
  {
   "cell_type": "code",
   "execution_count": null,
   "id": "c7309451",
   "metadata": {},
   "outputs": [],
   "source": [
    "import tensorflow as tf\n",
    "\n",
    "tf.random.stateless_uniform(\n",
    "    [5],\n",
    "    (42,42),\n",
    "    minval=0,\n",
    "    maxval=10,\n",
    ")\n"
   ]
  },
  {
   "cell_type": "code",
   "execution_count": null,
   "id": "c9b8e8cc",
   "metadata": {},
   "outputs": [],
   "source": [
    "for _ in range(5):\n",
    "  print(tf.random.stateless_uniform(\n",
    "    [10],\n",
    "    (42,42),\n",
    "    minval=0,\n",
    "    maxval=10,\n",
    ")\n",
    ")"
   ]
  },
  {
   "cell_type": "code",
   "execution_count": null,
   "id": "7979f211",
   "metadata": {},
   "outputs": [],
   "source": [
    "import plotly.express as px\n",
    "px.imshow([[0,1,0],[1,1,1],[0,1,1]])"
   ]
  },
  {
   "cell_type": "code",
   "execution_count": null,
   "id": "15bdb408",
   "metadata": {},
   "outputs": [],
   "source": [
    "px.imshow(tf.image.stateless_random_flip_left_right(\n",
    "  image=[[[0,211,0]],[[1,121,211]],[[0,211,1]]],\n",
    "  # lower=0.1,\n",
    "  # upper=0.9,\n",
    "  # max_delta=0.02,\n",
    "  seed=(42,42),\n",
    "))"
   ]
  },
  {
   "cell_type": "code",
   "execution_count": null,
   "id": "e8d35849",
   "metadata": {},
   "outputs": [],
   "source": [
    "tf.image.random_flip_left_right(\n",
    "  image=[[[0,211,1]],[[1,121,211]],[[5,211,1]]],\n",
    "  # lower=0.1,\n",
    "  # upper=0.9,\n",
    "  # max_delta=0.02,\n",
    "  seed=42,\n",
    ")"
   ]
  }
 ],
 "metadata": {
  "environment": {
   "name": "tf2-gpu.2-4.m69",
   "type": "gcloud",
   "uri": "gcr.io/deeplearning-platform-release/tf2-gpu.2-4:m69"
  },
  "interpreter": {
   "hash": "499db2d76b65a8aa4fb564d426f2b0bbb418bf22da5d48b1401ff719c1c676f1"
  },
  "kernelspec": {
   "display_name": "Python 3.8.8 ('venv': venv)",
   "language": "python",
   "name": "python3"
  },
  "language_info": {
   "codemirror_mode": {
    "name": "ipython",
    "version": 3
   },
   "file_extension": ".py",
   "mimetype": "text/x-python",
   "name": "python",
   "nbconvert_exporter": "python",
   "pygments_lexer": "ipython3",
   "version": "3.8.8"
  }
 },
 "nbformat": 4,
 "nbformat_minor": 5
}
