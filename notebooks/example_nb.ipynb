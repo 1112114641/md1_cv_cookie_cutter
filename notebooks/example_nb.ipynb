{
 "cells": [
  {
   "cell_type": "markdown",
   "id": "846d81ec",
   "metadata": {},
   "source": [
    "# Intro\n",
    "123\n",
    "\n",
    "### TOC\n",
    "[123](123)"
   ]
  },
  {
   "cell_type": "code",
   "execution_count": null,
   "id": "07926b0e",
   "metadata": {},
   "outputs": [],
   "source": [
    "%load_ext autoreload\n",
    "%autoreload 2\n",
    "import os\n",
    "os.chdir(\"/Users/markusdollmann/Desktop/eliiza/cv_cookie_cutter/\")"
   ]
  },
  {
   "cell_type": "code",
   "execution_count": null,
   "id": "c7309451",
   "metadata": {},
   "outputs": [],
   "source": [
    "import tensorflow as tf\n",
    "\n",
    "tf.random.stateless_uniform(\n",
    "    [5],\n",
    "    (42,42),\n",
    "    minval=0,\n",
    "    maxval=10,\n",
    ")\n"
   ]
  },
  {
   "cell_type": "code",
   "execution_count": null,
   "id": "c9b8e8cc",
   "metadata": {},
   "outputs": [],
   "source": [
    "for _ in range(5):\n",
    "  print(tf.random.stateless_uniform(\n",
    "    [10],\n",
    "    (42,42),\n",
    "    minval=0,\n",
    "    maxval=10,\n",
    ")\n",
    ")"
   ]
  },
  {
   "cell_type": "code",
   "execution_count": null,
   "id": "ca4066db",
   "metadata": {},
   "outputs": [],
   "source": []
  }
 ],
 "metadata": {
  "environment": {
   "name": "tf2-gpu.2-4.m69",
   "type": "gcloud",
   "uri": "gcr.io/deeplearning-platform-release/tf2-gpu.2-4:m69"
  },
  "interpreter": {
   "hash": "499db2d76b65a8aa4fb564d426f2b0bbb418bf22da5d48b1401ff719c1c676f1"
  },
  "kernelspec": {
   "display_name": "Python 3.8.8 ('venv': venv)",
   "language": "python",
   "name": "python3"
  },
  "language_info": {
   "codemirror_mode": {
    "name": "ipython",
    "version": 3
   },
   "file_extension": ".py",
   "mimetype": "text/x-python",
   "name": "python",
   "nbconvert_exporter": "python",
   "pygments_lexer": "ipython3",
   "version": "3.8.8"
  }
 },
 "nbformat": 4,
 "nbformat_minor": 5
}
